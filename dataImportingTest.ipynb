{
 "cells": [
  {
   "cell_type": "code",
   "execution_count": 1,
   "id": "c59fd9cb",
   "metadata": {},
   "outputs": [
    {
     "name": "stdout",
     "output_type": "stream",
     "text": [
      "The requested page returned a valid response, but no data could be found. Has the season begun, and is the data available on www.sports-reference.com?\n"
     ]
    }
   ],
   "source": [
    "from sportsipy.nba.teams import Teams\n",
    "\n",
    "teams = Teams()\n",
    "for team in teams:\n",
    "    print(team.name, team.abbreviation)"
   ]
  },
  {
   "cell_type": "code",
   "execution_count": 2,
   "id": "ee323938",
   "metadata": {},
   "outputs": [],
   "source": [
    "from sportsipy.nfl.teams import Teams\n",
    "\n",
    "teams = Teams()\n",
    "lions = teams('DET')\n"
   ]
  },
  {
   "cell_type": "code",
   "execution_count": 3,
   "id": "882ac63c",
   "metadata": {},
   "outputs": [
    {
     "name": "stdout",
     "output_type": "stream",
     "text": [
      "Tue, Nov 9, 2021\n",
      "Fri, Nov 12, 2021\n",
      "Tue, Nov 16, 2021\n",
      "Sat, Nov 20, 2021\n",
      "Sun, Nov 21, 2021\n",
      "Fri, Nov 26, 2021\n",
      "Tue, Nov 30, 2021\n",
      "Fri, Dec 3, 2021\n",
      "Thu, Dec 9, 2021\n",
      "Sun, Dec 12, 2021\n",
      "Sat, Dec 18, 2021\n",
      "Mon, Dec 20, 2021\n",
      "Wed, Dec 29, 2021\n",
      "Mon, Jan 3, 2022\n",
      "Sat, Jan 8, 2022\n",
      "Fri, Jan 14, 2022\n",
      "Mon, Jan 17, 2022\n",
      "Thu, Jan 20, 2022\n",
      "Sun, Jan 23, 2022\n",
      "Thu, Jan 27, 2022\n",
      "Sun, Jan 30, 2022\n",
      "Wed, Feb 2, 2022\n",
      "Sat, Feb 5, 2022\n",
      "Tue, Feb 8, 2022\n",
      "Thu, Feb 10, 2022\n",
      "Sun, Feb 13, 2022\n",
      "Wed, Feb 16, 2022\n",
      "Sun, Feb 20, 2022\n",
      "Sat, Feb 26, 2022\n",
      "Tue, Mar 1, 2022\n",
      "Sat, Mar 5, 2022\n",
      "Fri, Mar 11, 2022\n",
      "Sat, Mar 12, 2022\n",
      "Sun, Mar 13, 2022\n",
      "Fri, Mar 18, 2022\n",
      "Sun, Mar 20, 2022\n",
      "Fri, Mar 25, 2022\n"
     ]
    }
   ],
   "source": [
    "from sportsipy.ncaab.schedule import Schedule\n",
    "\n",
    "purdue_schedule = Schedule('purdue')\n",
    "for game in purdue_schedule:\n",
    "    print(game.date)"
   ]
  },
  {
   "cell_type": "code",
   "execution_count": 4,
   "id": "341ab97d",
   "metadata": {},
   "outputs": [],
   "source": [
    "from sportsipy.nba.roster import Player\n",
    "from sportsipy.nba.roster import Roster\n",
    "from sportsipy.nba.teams import Teams\n",
    "from datetime import datetime, timedelta\n",
    "from dateutil.relativedelta import relativedelta\n",
    "import pandas as pd"
   ]
  },
  {
   "cell_type": "code",
   "execution_count": 5,
   "id": "210c9d7a",
   "metadata": {},
   "outputs": [],
   "source": [
    "sc = Player('curryst01')"
   ]
  },
  {
   "cell_type": "code",
   "execution_count": 6,
   "id": "8ba7025b",
   "metadata": {},
   "outputs": [],
   "source": [
    "# Function to get player info from Player object\n",
    "\n",
    "def get_player_df(player):\n",
    "    \n",
    "    # helper function to get player age during each season\n",
    "    def get_age(year, bd):\n",
    "        if year[0] == \"Career\":\n",
    "            return None\n",
    "        else:\n",
    "            year_dt = datetime(int(year[0][0:4]) + 1, 1, 1)\n",
    "            age_years = relativedelta(year_dt, bd).years + relativedelta(year_dt, bd).months/12\n",
    "            return age_years\n",
    "        \n",
    "    # helper function to get year for each row and denote rows that contain career totals\n",
    "    def get_year(ix):\n",
    "        if ix[0] == \"Career\":\n",
    "            return \"Career\"\n",
    "        elif ix[0] == \"1999-00\":\n",
    "            return \"2000\"\n",
    "        else:\n",
    "            return ix[0][0:2] + ix[0][-2:]\n",
    "    \n",
    "    # get player df and add some extra info\n",
    "    player_df = player.dataframe\n",
    "    player_df['player_id'] = player.player_id\n",
    "    player_df['name'] = player.name\n",
    "    player_df['year'] = [get_year(ix) for ix in player_df.index]\n",
    "    player_df['id'] = [player_id + ' ' + year for player_id, year in zip(player_df['player_id'], player_df['year'])]\n",
    "    player_df.set_index('id', drop = True, inplace = True)\n",
    "    \n",
    "    return player_df"
   ]
  },
  {
   "cell_type": "code",
   "execution_count": 7,
   "id": "0953e26f",
   "metadata": {
    "scrolled": false
   },
   "outputs": [],
   "source": [
    "scdf = get_player_df(sc)"
   ]
  },
  {
   "cell_type": "code",
   "execution_count": 8,
   "id": "aabacd68",
   "metadata": {},
   "outputs": [
    {
     "data": {
      "text/plain": [
       "Index(['and_ones', 'assist_percentage', 'assists', 'assists_per_poss',\n",
       "       'block_percentage', 'blocking_fouls', 'blocks', 'blocks_per_poss',\n",
       "       'box_plus_minus', 'center_percentage',\n",
       "       ...\n",
       "       'two_pointers', 'two_pointers_per_poss',\n",
       "       'two_pointers_assisted_percentage', 'usage_percentage',\n",
       "       'value_over_replacement_player', 'weight', 'win_shares',\n",
       "       'win_shares_per_48_minutes', 'name', 'year'],\n",
       "      dtype='object', length=108)"
      ]
     },
     "execution_count": 8,
     "metadata": {},
     "output_type": "execute_result"
    }
   ],
   "source": [
    "scdf.columns"
   ]
  },
  {
   "cell_type": "code",
   "execution_count": 9,
   "id": "23941e63",
   "metadata": {},
   "outputs": [
    {
     "name": "stdout",
     "output_type": "stream",
     "text": [
      "James Harden\n",
      "23477\n",
      "        and_ones  assist_percentage  assists  assists_per_poss  \\\n",
      "2009-10     None               12.3      137               4.1   \n",
      "2010-11     None               12.8      176               4.2   \n",
      "2011-12     None               19.3      229               6.1   \n",
      "2012-13     None               25.7      455               7.6   \n",
      "2013-14     None               27.3      446               8.0   \n",
      "2014-15     None               34.6      565               9.4   \n",
      "2015-16     None               35.4      612               9.6   \n",
      "2016-17     None               50.7      907              14.8   \n",
      "2017-18     None               45.1      630              12.2   \n",
      "2018-19     None               39.5      586              10.0   \n",
      "2019-20     None               35.9      512               9.5   \n",
      "2020-21     None               44.4      475              14.2   \n",
      "2021-22     None               40.3      667              13.5   \n",
      "Career      None               33.4     6397               9.7   \n",
      "\n",
      "         block_percentage blocking_fouls  blocks  blocks_per_poss  \\\n",
      "2009-10               0.9           None      20              0.6   \n",
      "2010-11               0.8           None      24              0.6   \n",
      "2011-12               0.6           None      15              0.4   \n",
      "2012-13               1.0           None      38              0.6   \n",
      "2013-14               0.8           None      29              0.5   \n",
      "2014-15               1.6           None      60              1.0   \n",
      "2015-16               1.4           None      51              0.8   \n",
      "2016-17               1.0           None      38              0.6   \n",
      "2017-18               1.7           None      50              1.0   \n",
      "2018-19               1.7           None      58              1.0   \n",
      "2019-20               2.1           None      60              1.1   \n",
      "2020-21               1.8           None      33              1.0   \n",
      "2021-22               1.3           None      36              0.7   \n",
      "Career                1.3           None     512              0.8   \n",
      "\n",
      "         box_plus_minus  center_percentage  ...  two_point_attempts_per_poss  \\\n",
      "2009-10             0.5                  0  ...                          9.8   \n",
      "2010-11             1.9                  0  ...                          8.5   \n",
      "2011-12             4.3                  0  ...                          8.9   \n",
      "2012-13             5.6                  0  ...                         14.2   \n",
      "2013-14             5.6                  0  ...                         13.0   \n",
      "2014-15             8.8                  0  ...                         15.3   \n",
      "2015-16             6.6                  0  ...                         15.1   \n",
      "2016-17             8.7                  0  ...                         12.7   \n",
      "2017-18             9.9                  0  ...                         14.0   \n",
      "2018-19            11.0                  0  ...                         15.1   \n",
      "2019-20             9.6                  0  ...                         12.5   \n",
      "2020-21             7.2                  0  ...                         12.0   \n",
      "2021-22             4.0                  0  ...                         11.0   \n",
      "Career              6.7                  0  ...                         12.8   \n",
      "\n",
      "         two_point_percentage  two_pointers  two_pointers_per_poss  \\\n",
      "2009-10                 0.424           140                    4.2   \n",
      "2010-11                 0.514           185                    4.4   \n",
      "2011-12                 0.579           195                    5.2   \n",
      "2012-13                 0.477           406                    6.8   \n",
      "2013-14                 0.515           372                    6.7   \n",
      "2014-15                 0.480           439                    7.3   \n",
      "2015-16                 0.494           474                    7.5   \n",
      "2016-17                 0.530           412                    6.7   \n",
      "2017-18                 0.531           386                    7.4   \n",
      "2018-19                 0.528           465                    8.0   \n",
      "2019-20                 0.556           373                    7.0   \n",
      "2020-21                 0.553           221                    6.6   \n",
      "2021-22                 0.476           259                    5.2   \n",
      "Career                  0.511          4327                    6.5   \n",
      "\n",
      "         two_pointers_assisted_percentage usage_percentage  \\\n",
      "2009-10                              None             20.4   \n",
      "2010-11                              None             19.5   \n",
      "2011-12                              None             21.6   \n",
      "2012-13                              None             29.0   \n",
      "2013-14                              None             27.8   \n",
      "2014-15                              None             31.3   \n",
      "2015-16                              None             32.5   \n",
      "2016-17                              None             34.2   \n",
      "2017-18                              None             36.1   \n",
      "2018-19                              None             40.5   \n",
      "2019-20                              None             36.3   \n",
      "2020-21                              None             28.4   \n",
      "2021-22                              None             27.2   \n",
      "Career                               None             30.3   \n",
      "\n",
      "         value_over_replacement_player  weight  win_shares  \\\n",
      "2009-10                            1.1    None         4.5   \n",
      "2010-11                            2.2    None         7.1   \n",
      "2011-12                            3.1    None         9.3   \n",
      "2012-13                            5.8    None        12.8   \n",
      "2013-14                            5.3    None        12.8   \n",
      "2014-15                            8.1    None        16.4   \n",
      "2015-16                            6.8    None        13.3   \n",
      "2016-17                            8.0    None        15.0   \n",
      "2017-18                            7.7    None        15.4   \n",
      "2018-19                            9.3    None        15.2   \n",
      "2019-20                            7.3    None        13.1   \n",
      "2020-21                            3.7    None         7.0   \n",
      "2021-22                            3.7    None         7.6   \n",
      "Career                            72.0    None       149.6   \n",
      "\n",
      "         win_shares_per_48_minutes  \n",
      "2009-10                      0.124  \n",
      "2010-11                      0.156  \n",
      "2011-12                      0.230  \n",
      "2012-13                      0.206  \n",
      "2013-14                      0.221  \n",
      "2014-15                      0.265  \n",
      "2015-16                      0.204  \n",
      "2016-17                      0.245  \n",
      "2017-18                      0.289  \n",
      "2018-19                      0.254  \n",
      "2019-20                      0.254  \n",
      "2020-21                      0.208  \n",
      "2021-22                      0.152  \n",
      "Career                       0.220  \n",
      "\n",
      "[14 rows x 106 columns]\n"
     ]
    }
   ],
   "source": [
    "from sportsipy.nba.roster import Player\n",
    "\n",
    "james_harden = Player('hardeja01')\n",
    "print(james_harden.name)  # Prints 'James Harden'\n",
    "print(james_harden.points)  # Prints Harden's career points total\n",
    "# Prints a Pandas DataFrame of all relevant Harden stats per season\n",
    "print(james_harden.dataframe)\n",
    "#print(james_harden.salary)  # Prints Harden's career earnings\n",
    "#print(james_harden.contract)  # Prints Harden's contract by yearly wages"
   ]
  },
  {
   "cell_type": "code",
   "execution_count": null,
   "id": "95d682a4",
   "metadata": {},
   "outputs": [],
   "source": []
  },
  {
   "cell_type": "code",
   "execution_count": null,
   "id": "41a7e55a",
   "metadata": {},
   "outputs": [],
   "source": []
  }
 ],
 "metadata": {
  "kernelspec": {
   "display_name": "Python 3 (ipykernel)",
   "language": "python",
   "name": "python3"
  },
  "language_info": {
   "codemirror_mode": {
    "name": "ipython",
    "version": 3
   },
   "file_extension": ".py",
   "mimetype": "text/x-python",
   "name": "python",
   "nbconvert_exporter": "python",
   "pygments_lexer": "ipython3",
   "version": "3.9.13"
  }
 },
 "nbformat": 4,
 "nbformat_minor": 5
}
